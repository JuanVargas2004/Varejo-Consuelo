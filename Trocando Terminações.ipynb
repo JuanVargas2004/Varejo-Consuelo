{
 "cells": [
  {
   "cell_type": "code",
   "execution_count": 3,
   "metadata": {
    "colab": {
     "base_uri": "https://localhost:8080/"
    },
    "executionInfo": {
     "elapsed": 814,
     "status": "ok",
     "timestamp": 1720294181760,
     "user": {
      "displayName": "Juan de Souza Vargas Costa",
      "userId": "13796238001749068252"
     },
     "user_tz": 180
    },
    "id": "whJbKwAwVpqH",
    "outputId": "ff534943-321f-4295-8efe-b9d8c79c784a"
   },
   "outputs": [
    {
     "name": "stdout",
     "output_type": "stream",
     "text": [
      "['clientes.csv', 'engajamento_redes_sociais.csv', 'Arquivinhos', 'lojas.csv', 'promocoes.csv', 'campanhas_marketing.csv', 'produtos.csv', 'vendas_online.csv']\n"
     ]
    }
   ],
   "source": [
    "import os\n",
    "\n",
    "caminho = \"/content/drive/MyDrive/Colab_Notebooks/Projeto_Consuelo/Arquivos_Tratados\"\n",
    "\n",
    "caminho_save = \"/content/drive/MyDrive/Colab_Notebooks/Projeto_Consuelo/CSVs_Estruturados\"\n",
    "\n",
    "arquivos =  os.listdir(caminho)\n",
    "\n",
    "print(arquivos)"
   ]
  },
  {
   "cell_type": "code",
   "execution_count": 4,
   "metadata": {
    "colab": {
     "base_uri": "https://localhost:8080/"
    },
    "executionInfo": {
     "elapsed": 7,
     "status": "ok",
     "timestamp": 1720294182288,
     "user": {
      "displayName": "Juan de Souza Vargas Costa",
      "userId": "13796238001749068252"
     },
     "user_tz": 180
    },
    "id": "al_5uJpoWgxb",
    "outputId": "a7049e79-b907-461b-f1c6-c788c9bd0034"
   },
   "outputs": [
    {
     "name": "stdout",
     "output_type": "stream",
     "text": [
      "alteração feita\n",
      "alteração feita\n",
      "alteração feita\n",
      "alteração feita\n",
      "alteração feita\n",
      "alteração feita\n",
      "alteração feita\n",
      "alteração feita\n"
     ]
    }
   ],
   "source": [
    "for arquivo in arquivos:\n",
    "\n",
    "    if arquivo.endswith(\".csv\"):\n",
    "\n",
    "        with open(f\"{caminho}/{arquivo}\", \"r\") as file:\n",
    "            conteudo = file.read()\n",
    "\n",
    "\n",
    "        if \";\" not in conteudo:\n",
    "            conteudo = conteudo.replace(\",\", \";\")\n",
    "            #conteudo = conteudo.replace(\".\", \",\")\n",
    "\n",
    "        else:\n",
    "            continue\n",
    "\n",
    "\n",
    "        with open(f\"{caminho_save}/{arquivo[:-4]}.csv\", \"w\") as teste:\n",
    "            teste.write(conteudo)\n",
    "\n",
    "    print(\"alteração feita\")\n"
   ]
  }
 ],
 "metadata": {
  "colab": {
   "authorship_tag": "ABX9TyOa6GpVY+ItvGL3POquCvlF",
   "mount_file_id": "1HOwnMtqNgz5E92V9X4RNu1qZB2NJReew",
   "provenance": []
  },
  "kernelspec": {
   "display_name": "Python 3 (ipykernel)",
   "language": "python",
   "name": "python3"
  },
  "language_info": {
   "codemirror_mode": {
    "name": "ipython",
    "version": 3
   },
   "file_extension": ".py",
   "mimetype": "text/x-python",
   "name": "python",
   "nbconvert_exporter": "python",
   "pygments_lexer": "ipython3",
   "version": "3.11.4"
  }
 },
 "nbformat": 4,
 "nbformat_minor": 4
}
