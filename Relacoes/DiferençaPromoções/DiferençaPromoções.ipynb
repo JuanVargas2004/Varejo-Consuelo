{
 "cells": [
  {
   "cell_type": "code",
   "execution_count": 16,
   "id": "51b99d75-43a2-4020-86b9-ab48ff2c8c1d",
   "metadata": {},
   "outputs": [
    {
     "name": "stdout",
     "output_type": "stream",
     "text": [
      "T-statistic: -313.08611240471475\n",
      "P-value: 0.0\n"
     ]
    }
   ],
   "source": [
    "import pandas as pd\n",
    "from scipy import stats\n",
    "\n",
    "# Carregar os dados\n",
    "df = pd.read_excel('DiferençaPromoções.xlsx')\n",
    "\n",
    "# Calcular a média e desvio padrão dos volumes\n",
    "mean_volumes_promo = df['Volumes_Promo']# / df['Dias_Promo']\n",
    "mean_volumes_sempromo = df['Volumes_SemPromo']# / df['Dias_SemPromo']\n",
    "\n",
    "# Realizar o teste t\n",
    "t_stat, p_value = stats.ttest_ind(mean_volumes_promo, mean_volumes_sempromo)\n",
    "#t_stat, p_value = stats.ttest_ind(mean_volumes_sempromo, mean_volumes_promo)\n",
    "\n",
    "print(f\"T-statistic: {t_stat}\")\n",
    "print(f\"P-value: {p_value}\")\n"
   ]
  }
 ],
 "metadata": {
  "kernelspec": {
   "display_name": "Python 3 (ipykernel)",
   "language": "python",
   "name": "python3"
  },
  "language_info": {
   "codemirror_mode": {
    "name": "ipython",
    "version": 3
   },
   "file_extension": ".py",
   "mimetype": "text/x-python",
   "name": "python",
   "nbconvert_exporter": "python",
   "pygments_lexer": "ipython3",
   "version": "3.11.4"
  }
 },
 "nbformat": 4,
 "nbformat_minor": 5
}
