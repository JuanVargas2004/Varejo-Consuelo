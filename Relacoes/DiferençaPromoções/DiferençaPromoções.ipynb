{
 "cells": [
  {
   "cell_type": "code",
   "execution_count": 2,
   "id": "f4cba24a-41a5-4380-99a2-5dac5642bff1",
   "metadata": {},
   "outputs": [
    {
     "name": "stdout",
     "output_type": "stream",
     "text": [
      "T-statistic: -303.5915098967591\n",
      "P-value: 0.0\n",
      "Há uma diferença estatisticamente significativa entre os volumes de vendas em promoção e fora de promoção.\n"
     ]
    }
   ],
   "source": [
    "import pandas as pd\n",
    "\n",
    "df = pd.read_excel(\"DiferençaPromoções.xlsx\")\n",
    "\n",
    "from scipy import stats\n",
    "\n",
    "# Carregar os volumes de vendas\n",
    "volumes_promo = df['Volumes_Promo']\n",
    "volumes_sem_promo = df['Volumes_SemPromo']\n",
    "\n",
    "# Realizar o teste t pareado\n",
    "t_stat, p_value = stats.ttest_rel(volumes_promo, volumes_sem_promo)\n",
    "\n",
    "print(f\"T-statistic: {t_stat}\")\n",
    "print(f\"P-value: {p_value}\")\n",
    "\n",
    "if p_value < 0.05:\n",
    "    print(\"Há uma diferença estatisticamente significativa entre os volumes de vendas em promoção e fora de promoção.\")\n",
    "else:\n",
    "    print(\"Não há uma diferença estatisticamente significativa entre os volumes de vendas em promoção e fora de promoção.\")\n"
   ]
  }
 ],
 "metadata": {
  "kernelspec": {
   "display_name": "Python 3 (ipykernel)",
   "language": "python",
   "name": "python3"
  },
  "language_info": {
   "codemirror_mode": {
    "name": "ipython",
    "version": 3
   },
   "file_extension": ".py",
   "mimetype": "text/x-python",
   "name": "python",
   "nbconvert_exporter": "python",
   "pygments_lexer": "ipython3",
   "version": "3.11.4"
  }
 },
 "nbformat": 4,
 "nbformat_minor": 5
}
