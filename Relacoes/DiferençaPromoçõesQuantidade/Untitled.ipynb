{
 "cells": [
  {
   "cell_type": "code",
   "execution_count": null,
   "id": "90a5d2d0-35b3-42f2-bed6-609c87608fd6",
   "metadata": {},
   "outputs": [],
   "source": [
    "import pymysql\n",
    "\n",
    "# Configurações da conexão\n",
    "connection = pymysql.connect(\n",
    "    #host='seu_host',\n",
    "    user='root',\n",
    "    password='0000',\n",
    "    database='varejo'\n",
    ")\n",
    "\n",
    "try:\n",
    "    # Cria um cursor para executar a consulta\n",
    "    with connection.cursor() as cursor:\n",
    "        # Define a consulta SQL\n",
    "        sql_query = \"\"\"\n",
    "        SELECT COUNT(id_cliente) AS total_clientes\n",
    "        FROM (\n",
    "            SELECT v.id_cliente, COUNT(v.data_venda) AS visitas_promo\n",
    "            FROM vendas v \n",
    "            JOIN campanhas_marketing camp ON (v.data_venda BETWEEN camp.data_inicio AND camp.data_fim)\n",
    "            JOIN promocoes promo ON (v.data_venda BETWEEN promo.data_inicio AND promo.data_fim)\n",
    "            JOIN clientes c ON v.id_cliente = c.id_cliente\n",
    "            WHERE c.satisfacao = 5\n",
    "            GROUP BY v.id_cliente\n",
    "        ) clientemax;\n",
    "        \"\"\"\n",
    "\n",
    "        # Executa a consulta\n",
    "        cursor.execute(sql_query)\n",
    "        \n",
    "        # Obtém o resultado\n",
    "        result = cursor.fetchone()\n",
    "        print(f\"Total de clientes: {result[0]}\")\n",
    "finally:\n",
    "    # Fecha a conexão\n",
    "    connection.close()\n"
   ]
  }
 ],
 "metadata": {
  "kernelspec": {
   "display_name": "Python 3 (ipykernel)",
   "language": "python",
   "name": "python3"
  },
  "language_info": {
   "codemirror_mode": {
    "name": "ipython",
    "version": 3
   },
   "file_extension": ".py",
   "mimetype": "text/x-python",
   "name": "python",
   "nbconvert_exporter": "python",
   "pygments_lexer": "ipython3",
   "version": "3.11.4"
  }
 },
 "nbformat": 4,
 "nbformat_minor": 5
}
